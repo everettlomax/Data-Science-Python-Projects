{
 "cells": [
  {
   "cell_type": "code",
   "execution_count": 1,
   "id": "1b63fc29",
   "metadata": {},
   "outputs": [],
   "source": [
    "import pandas as pd\n",
    "import matplotlib.pyplot as plt\n",
    "Bank_Data = pd.read_csv(\"bank-full.csv\")"
   ]
  },
  {
   "cell_type": "markdown",
   "id": "6bb86689",
   "metadata": {},
   "source": [
    "Index([ 'age;\"job\";\"marital\";\"education\";\"default\";\"balance\";\"housing\";\"loan\";\"contact\";\"day\";\"month\";\"duration\";\"campaign\";\"pdays\";\"previous\";\"poutcome\";\"y\"],dtype='object')"
   ]
  },
  {
   "cell_type": "code",
   "execution_count": 2,
   "id": "77c4222e",
   "metadata": {},
   "outputs": [],
   "source": [
    "#Assigning Bank Data to the columns from bank-full.csv\n",
    "split_data = Bank_Data['age;\"job\";\"marital\";\"education\";\"default\";\"balance\";\"housing\";\"loan\";\"contact\";\"day\";\"month\";\"duration\";\"campaign\";\"pdays\";\"previous\";\"poutcome\";\"y\"'].str.split(\";\",expand = True, n=16)"
   ]
  },
  {
   "cell_type": "code",
   "execution_count": 3,
   "id": "f77fd111",
   "metadata": {},
   "outputs": [],
   "source": [
    "#Renamming the numbered columns to the appropriate column names for clarity \n",
    "split_data.rename(columns={0:\"age\", 1:\"job\", 2:\"marital\" ,3:\"education\", 4:\"default\",5:\"balance\",6:\"housing\",7:\"loan\",8:\"contact\",9:\"day\",10:\"month\",11:\"duration\",12:\"campaign\",13:\"Pdays\",14:\"previous\",15:\"p_outcome\",16:\"Y\"}, inplace =True)"
   ]
  },
  {
   "cell_type": "code",
   "execution_count": 4,
   "id": "2472dd86",
   "metadata": {},
   "outputs": [],
   "source": [
    "#Same as using Inplace function\n",
    "split_data[\"job\"] = split_data[\"job\"].str.replace('\"',\"\")"
   ]
  },
  {
   "cell_type": "markdown",
   "id": "af9fe900",
   "metadata": {},
   "source": [
    "## Removing Quotes in Each Column ##"
   ]
  },
  {
   "cell_type": "code",
   "execution_count": 5,
   "id": "3959ad50",
   "metadata": {},
   "outputs": [],
   "source": [
    "split_data[\"marital\"] = split_data[\"marital\"].str.replace('\"',\"\")"
   ]
  },
  {
   "cell_type": "code",
   "execution_count": 6,
   "id": "ea6c3d1c",
   "metadata": {},
   "outputs": [],
   "source": [
    "split_data[\"education\"] = split_data[\"education\"].str.replace('\"',\"\")"
   ]
  },
  {
   "cell_type": "code",
   "execution_count": 7,
   "id": "4e1a1194",
   "metadata": {},
   "outputs": [],
   "source": [
    "split_data[\"default\"] = split_data[\"default\"].str.replace('\"',\"\")"
   ]
  },
  {
   "cell_type": "code",
   "execution_count": 8,
   "id": "ddf2a18f",
   "metadata": {},
   "outputs": [],
   "source": [
    "split_data[\"housing\"] = split_data[\"housing\"].str.replace('\"',\"\")"
   ]
  },
  {
   "cell_type": "code",
   "execution_count": 9,
   "id": "d93cc1d3",
   "metadata": {},
   "outputs": [],
   "source": [
    "split_data[\"loan\"] = split_data[\"loan\"].str.replace('\"',\"\")"
   ]
  },
  {
   "cell_type": "code",
   "execution_count": 10,
   "id": "6c440740",
   "metadata": {},
   "outputs": [],
   "source": [
    "split_data[\"contact\"] = split_data[\"contact\"].str.replace('\"',\"\")"
   ]
  },
  {
   "cell_type": "code",
   "execution_count": 11,
   "id": "ce6b24c3",
   "metadata": {},
   "outputs": [],
   "source": [
    "split_data[\"month\"] = split_data[\"month\"].str.replace('\"',\"\")"
   ]
  },
  {
   "cell_type": "code",
   "execution_count": 12,
   "id": "e2148d02",
   "metadata": {},
   "outputs": [],
   "source": [
    "split_data[\"p_outcome\"] = split_data[\"p_outcome\"].str.replace('\"',\"\")"
   ]
  },
  {
   "cell_type": "code",
   "execution_count": 13,
   "id": "c7d01425",
   "metadata": {},
   "outputs": [],
   "source": [
    "split_data[\"Y\"] = split_data[\"Y\"].str.replace('\"',\"\")"
   ]
  },
  {
   "cell_type": "raw",
   "id": "b1f37b35",
   "metadata": {},
   "source": [
    "split_data"
   ]
  },
  {
   "cell_type": "code",
   "execution_count": 14,
   "id": "6420f4c2",
   "metadata": {},
   "outputs": [
    {
     "data": {
      "text/html": [
       "<div>\n",
       "<style scoped>\n",
       "    .dataframe tbody tr th:only-of-type {\n",
       "        vertical-align: middle;\n",
       "    }\n",
       "\n",
       "    .dataframe tbody tr th {\n",
       "        vertical-align: top;\n",
       "    }\n",
       "\n",
       "    .dataframe thead th {\n",
       "        text-align: right;\n",
       "    }\n",
       "</style>\n",
       "<table border=\"1\" class=\"dataframe\">\n",
       "  <thead>\n",
       "    <tr style=\"text-align: right;\">\n",
       "      <th></th>\n",
       "      <th>age</th>\n",
       "      <th>job</th>\n",
       "      <th>marital</th>\n",
       "      <th>education</th>\n",
       "      <th>default</th>\n",
       "      <th>balance</th>\n",
       "      <th>housing</th>\n",
       "      <th>loan</th>\n",
       "      <th>contact</th>\n",
       "      <th>day</th>\n",
       "      <th>month</th>\n",
       "      <th>duration</th>\n",
       "      <th>campaign</th>\n",
       "      <th>Pdays</th>\n",
       "      <th>previous</th>\n",
       "      <th>p_outcome</th>\n",
       "      <th>Y</th>\n",
       "    </tr>\n",
       "  </thead>\n",
       "  <tbody>\n",
       "    <tr>\n",
       "      <th>0</th>\n",
       "      <td>58</td>\n",
       "      <td>management</td>\n",
       "      <td>married</td>\n",
       "      <td>tertiary</td>\n",
       "      <td>no</td>\n",
       "      <td>2143</td>\n",
       "      <td>yes</td>\n",
       "      <td>no</td>\n",
       "      <td>unknown</td>\n",
       "      <td>5</td>\n",
       "      <td>may</td>\n",
       "      <td>261</td>\n",
       "      <td>1</td>\n",
       "      <td>-1</td>\n",
       "      <td>0</td>\n",
       "      <td>unknown</td>\n",
       "      <td>no</td>\n",
       "    </tr>\n",
       "    <tr>\n",
       "      <th>1</th>\n",
       "      <td>44</td>\n",
       "      <td>technician</td>\n",
       "      <td>single</td>\n",
       "      <td>secondary</td>\n",
       "      <td>no</td>\n",
       "      <td>29</td>\n",
       "      <td>yes</td>\n",
       "      <td>no</td>\n",
       "      <td>unknown</td>\n",
       "      <td>5</td>\n",
       "      <td>may</td>\n",
       "      <td>151</td>\n",
       "      <td>1</td>\n",
       "      <td>-1</td>\n",
       "      <td>0</td>\n",
       "      <td>unknown</td>\n",
       "      <td>no</td>\n",
       "    </tr>\n",
       "    <tr>\n",
       "      <th>2</th>\n",
       "      <td>33</td>\n",
       "      <td>entrepreneur</td>\n",
       "      <td>married</td>\n",
       "      <td>secondary</td>\n",
       "      <td>no</td>\n",
       "      <td>2</td>\n",
       "      <td>yes</td>\n",
       "      <td>yes</td>\n",
       "      <td>unknown</td>\n",
       "      <td>5</td>\n",
       "      <td>may</td>\n",
       "      <td>76</td>\n",
       "      <td>1</td>\n",
       "      <td>-1</td>\n",
       "      <td>0</td>\n",
       "      <td>unknown</td>\n",
       "      <td>no</td>\n",
       "    </tr>\n",
       "    <tr>\n",
       "      <th>3</th>\n",
       "      <td>47</td>\n",
       "      <td>blue-collar</td>\n",
       "      <td>married</td>\n",
       "      <td>unknown</td>\n",
       "      <td>no</td>\n",
       "      <td>1506</td>\n",
       "      <td>yes</td>\n",
       "      <td>no</td>\n",
       "      <td>unknown</td>\n",
       "      <td>5</td>\n",
       "      <td>may</td>\n",
       "      <td>92</td>\n",
       "      <td>1</td>\n",
       "      <td>-1</td>\n",
       "      <td>0</td>\n",
       "      <td>unknown</td>\n",
       "      <td>no</td>\n",
       "    </tr>\n",
       "    <tr>\n",
       "      <th>4</th>\n",
       "      <td>33</td>\n",
       "      <td>unknown</td>\n",
       "      <td>single</td>\n",
       "      <td>unknown</td>\n",
       "      <td>no</td>\n",
       "      <td>1</td>\n",
       "      <td>no</td>\n",
       "      <td>no</td>\n",
       "      <td>unknown</td>\n",
       "      <td>5</td>\n",
       "      <td>may</td>\n",
       "      <td>198</td>\n",
       "      <td>1</td>\n",
       "      <td>-1</td>\n",
       "      <td>0</td>\n",
       "      <td>unknown</td>\n",
       "      <td>no</td>\n",
       "    </tr>\n",
       "    <tr>\n",
       "      <th>...</th>\n",
       "      <td>...</td>\n",
       "      <td>...</td>\n",
       "      <td>...</td>\n",
       "      <td>...</td>\n",
       "      <td>...</td>\n",
       "      <td>...</td>\n",
       "      <td>...</td>\n",
       "      <td>...</td>\n",
       "      <td>...</td>\n",
       "      <td>...</td>\n",
       "      <td>...</td>\n",
       "      <td>...</td>\n",
       "      <td>...</td>\n",
       "      <td>...</td>\n",
       "      <td>...</td>\n",
       "      <td>...</td>\n",
       "      <td>...</td>\n",
       "    </tr>\n",
       "    <tr>\n",
       "      <th>45206</th>\n",
       "      <td>51</td>\n",
       "      <td>technician</td>\n",
       "      <td>married</td>\n",
       "      <td>tertiary</td>\n",
       "      <td>no</td>\n",
       "      <td>825</td>\n",
       "      <td>no</td>\n",
       "      <td>no</td>\n",
       "      <td>cellular</td>\n",
       "      <td>17</td>\n",
       "      <td>nov</td>\n",
       "      <td>977</td>\n",
       "      <td>3</td>\n",
       "      <td>-1</td>\n",
       "      <td>0</td>\n",
       "      <td>unknown</td>\n",
       "      <td>yes</td>\n",
       "    </tr>\n",
       "    <tr>\n",
       "      <th>45207</th>\n",
       "      <td>71</td>\n",
       "      <td>retired</td>\n",
       "      <td>divorced</td>\n",
       "      <td>primary</td>\n",
       "      <td>no</td>\n",
       "      <td>1729</td>\n",
       "      <td>no</td>\n",
       "      <td>no</td>\n",
       "      <td>cellular</td>\n",
       "      <td>17</td>\n",
       "      <td>nov</td>\n",
       "      <td>456</td>\n",
       "      <td>2</td>\n",
       "      <td>-1</td>\n",
       "      <td>0</td>\n",
       "      <td>unknown</td>\n",
       "      <td>yes</td>\n",
       "    </tr>\n",
       "    <tr>\n",
       "      <th>45208</th>\n",
       "      <td>72</td>\n",
       "      <td>retired</td>\n",
       "      <td>married</td>\n",
       "      <td>secondary</td>\n",
       "      <td>no</td>\n",
       "      <td>5715</td>\n",
       "      <td>no</td>\n",
       "      <td>no</td>\n",
       "      <td>cellular</td>\n",
       "      <td>17</td>\n",
       "      <td>nov</td>\n",
       "      <td>1127</td>\n",
       "      <td>5</td>\n",
       "      <td>184</td>\n",
       "      <td>3</td>\n",
       "      <td>success</td>\n",
       "      <td>yes</td>\n",
       "    </tr>\n",
       "    <tr>\n",
       "      <th>45209</th>\n",
       "      <td>57</td>\n",
       "      <td>blue-collar</td>\n",
       "      <td>married</td>\n",
       "      <td>secondary</td>\n",
       "      <td>no</td>\n",
       "      <td>668</td>\n",
       "      <td>no</td>\n",
       "      <td>no</td>\n",
       "      <td>telephone</td>\n",
       "      <td>17</td>\n",
       "      <td>nov</td>\n",
       "      <td>508</td>\n",
       "      <td>4</td>\n",
       "      <td>-1</td>\n",
       "      <td>0</td>\n",
       "      <td>unknown</td>\n",
       "      <td>no</td>\n",
       "    </tr>\n",
       "    <tr>\n",
       "      <th>45210</th>\n",
       "      <td>37</td>\n",
       "      <td>entrepreneur</td>\n",
       "      <td>married</td>\n",
       "      <td>secondary</td>\n",
       "      <td>no</td>\n",
       "      <td>2971</td>\n",
       "      <td>no</td>\n",
       "      <td>no</td>\n",
       "      <td>cellular</td>\n",
       "      <td>17</td>\n",
       "      <td>nov</td>\n",
       "      <td>361</td>\n",
       "      <td>2</td>\n",
       "      <td>188</td>\n",
       "      <td>11</td>\n",
       "      <td>other</td>\n",
       "      <td>no</td>\n",
       "    </tr>\n",
       "  </tbody>\n",
       "</table>\n",
       "<p>45211 rows × 17 columns</p>\n",
       "</div>"
      ],
      "text/plain": [
       "      age           job   marital  education default balance housing loan  \\\n",
       "0      58    management   married   tertiary      no    2143     yes   no   \n",
       "1      44    technician    single  secondary      no      29     yes   no   \n",
       "2      33  entrepreneur   married  secondary      no       2     yes  yes   \n",
       "3      47   blue-collar   married    unknown      no    1506     yes   no   \n",
       "4      33       unknown    single    unknown      no       1      no   no   \n",
       "...    ..           ...       ...        ...     ...     ...     ...  ...   \n",
       "45206  51    technician   married   tertiary      no     825      no   no   \n",
       "45207  71       retired  divorced    primary      no    1729      no   no   \n",
       "45208  72       retired   married  secondary      no    5715      no   no   \n",
       "45209  57   blue-collar   married  secondary      no     668      no   no   \n",
       "45210  37  entrepreneur   married  secondary      no    2971      no   no   \n",
       "\n",
       "         contact day month duration campaign Pdays previous p_outcome    Y  \n",
       "0        unknown   5   may      261        1    -1        0   unknown   no  \n",
       "1        unknown   5   may      151        1    -1        0   unknown   no  \n",
       "2        unknown   5   may       76        1    -1        0   unknown   no  \n",
       "3        unknown   5   may       92        1    -1        0   unknown   no  \n",
       "4        unknown   5   may      198        1    -1        0   unknown   no  \n",
       "...          ...  ..   ...      ...      ...   ...      ...       ...  ...  \n",
       "45206   cellular  17   nov      977        3    -1        0   unknown  yes  \n",
       "45207   cellular  17   nov      456        2    -1        0   unknown  yes  \n",
       "45208   cellular  17   nov     1127        5   184        3   success  yes  \n",
       "45209  telephone  17   nov      508        4    -1        0   unknown   no  \n",
       "45210   cellular  17   nov      361        2   188       11     other   no  \n",
       "\n",
       "[45211 rows x 17 columns]"
      ]
     },
     "execution_count": 14,
     "metadata": {},
     "output_type": "execute_result"
    }
   ],
   "source": [
    "#Cleaned csv table\n",
    "split_data"
   ]
  },
  {
   "cell_type": "code",
   "execution_count": 15,
   "id": "124f75e5",
   "metadata": {},
   "outputs": [
    {
     "data": {
      "text/plain": [
       "0          management\n",
       "1          technician\n",
       "2        entrepreneur\n",
       "3         blue-collar\n",
       "4             unknown\n",
       "             ...     \n",
       "45206      technician\n",
       "45207         retired\n",
       "45208         retired\n",
       "45209     blue-collar\n",
       "45210    entrepreneur\n",
       "Name: job, Length: 45211, dtype: object"
      ]
     },
     "execution_count": 15,
     "metadata": {},
     "output_type": "execute_result"
    }
   ],
   "source": [
    "split_data[\"job\"]"
   ]
  },
  {
   "cell_type": "code",
   "execution_count": 16,
   "id": "9e55389d",
   "metadata": {},
   "outputs": [],
   "source": [
    "#Converting age column to an integer to find the average\n",
    "y= split_data[\"age\"].astype(\"int\").mean()"
   ]
  },
  {
   "cell_type": "code",
   "execution_count": 17,
   "id": "0ae73f98",
   "metadata": {},
   "outputs": [],
   "source": [
    "#Used both age and balance columnns to into integers, then setting data to be grouped by \"age\"\n",
    "split_data[[\"age\",\"balance\"]] = split_data[[\"age\", \"balance\"]].astype(\"int\")\n",
    "m = split_data.groupby(\"age\")"
   ]
  },
  {
   "cell_type": "code",
   "execution_count": 64,
   "id": "2a21f04f",
   "metadata": {},
   "outputs": [
    {
     "data": {
      "image/png": "[encoded data removed]",
      "text/plain": [
       "<Figure size 640x480 with 1 Axes>"
      ]
     },
     "metadata": {},
     "output_type": "display_data"
    }
   ],
   "source": [
    "#Bar graph\n",
    "split_data[\"age\"].value_counts().sort_values(ascending = False).head(n=20).plot(kind = \"bar\", legend = True)\n",
    "plt.title(\"Balances by Age\")\n",
    "plt.xlabel(\"Age\")\n",
    "plt.ylabel(\"Total Balance\")\n",
    "plt.legend(['Balance'])\n",
    "plt.show()"
   ]
  },
  {
   "cell_type": "code",
   "execution_count": 19,
   "id": "5108fdd1",
   "metadata": {},
   "outputs": [
    {
     "data": {
      "text/plain": [
       "1362.2720576850766"
      ]
     },
     "execution_count": 19,
     "metadata": {},
     "output_type": "execute_result"
    }
   ],
   "source": [
    "#Avg Bank Balance\n",
    "split_data[\"balance\"].astype(\"int\").mean()"
   ]
  },
  {
   "cell_type": "code",
   "execution_count": 20,
   "id": "adaf0a16",
   "metadata": {},
   "outputs": [
    {
     "data": {
      "text/plain": [
       "102127"
      ]
     },
     "execution_count": 20,
     "metadata": {},
     "output_type": "execute_result"
    }
   ],
   "source": [
    "#Maximunm Bank Balance\n",
    "split_data[\"balance\"].astype(\"int\").max()"
   ]
  },
  {
   "cell_type": "code",
   "execution_count": 21,
   "id": "cfa68887",
   "metadata": {},
   "outputs": [
    {
     "data": {
      "text/plain": [
       "-8019"
      ]
     },
     "execution_count": 21,
     "metadata": {},
     "output_type": "execute_result"
    }
   ],
   "source": [
    "#Minimunm Bank Balance\n",
    "split_data[\"balance\"].astype(\"int\").min()"
   ]
  },
  {
   "cell_type": "code",
   "execution_count": 22,
   "id": "f1aff9ed",
   "metadata": {},
   "outputs": [
    {
     "data": {
      "text/plain": [
       "448.0"
      ]
     },
     "execution_count": 22,
     "metadata": {},
     "output_type": "execute_result"
    }
   ],
   "source": [
    "#Median Bank Balance\n",
    "split_data[\"balance\"].astype(\"int\").median()"
   ]
  },
  {
   "cell_type": "code",
   "execution_count": 23,
   "id": "75da72d7",
   "metadata": {},
   "outputs": [
    {
     "data": {
      "text/plain": [
       "0        2143\n",
       "1          29\n",
       "2           2\n",
       "3        1506\n",
       "4           1\n",
       "         ... \n",
       "45206     825\n",
       "45207    1729\n",
       "45208    5715\n",
       "45209     668\n",
       "45210    2971\n",
       "Name: balance, Length: 45211, dtype: int32"
      ]
     },
     "execution_count": 23,
     "metadata": {},
     "output_type": "execute_result"
    }
   ],
   "source": [
    "#Display current balance column\n",
    "split_data[\"balance\"]"
   ]
  },
  {
   "cell_type": "code",
   "execution_count": 24,
   "id": "bf7ca626",
   "metadata": {},
   "outputs": [],
   "source": [
    "#Defining balance checker to determine customer balance\n",
    "def balance_checker(amount):\n",
    "    if amount<0:\n",
    "        return \"Negative balance customer\"\n",
    "    elif amount>0:\n",
    "        return \"Positive balance customer\"\n",
    "    else:\n",
    "        return \"Amount not found\"\n"
   ]
  },
  {
   "cell_type": "code",
   "execution_count": 25,
   "id": "6a737567",
   "metadata": {},
   "outputs": [],
   "source": [
    "#Assigning balance checker variable\n",
    "split_data[\"balance_checker\"] = split_data[\"balance\"].astype(\"int\").apply(balance_checker)"
   ]
  },
  {
   "cell_type": "code",
   "execution_count": 26,
   "id": "7173b74d",
   "metadata": {},
   "outputs": [
    {
     "data": {
      "text/plain": [
       "0        Positive balance customer\n",
       "1        Positive balance customer\n",
       "2        Positive balance customer\n",
       "3        Positive balance customer\n",
       "4        Positive balance customer\n",
       "                   ...            \n",
       "45206    Positive balance customer\n",
       "45207    Positive balance customer\n",
       "45208    Positive balance customer\n",
       "45209    Positive balance customer\n",
       "45210    Positive balance customer\n",
       "Name: balance_checker, Length: 45211, dtype: object"
      ]
     },
     "execution_count": 26,
     "metadata": {},
     "output_type": "execute_result"
    }
   ],
   "source": [
    "split_data[\"balance_checker\"]"
   ]
  },
  {
   "cell_type": "code",
   "execution_count": 61,
   "id": "6433cdb2",
   "metadata": {},
   "outputs": [
    {
     "data": {
      "image/png": "[encoded data removed]",
      "text/plain": [
       "<Figure size 640x480 with 1 Axes>"
      ]
     },
     "metadata": {},
     "output_type": "display_data"
    }
   ],
   "source": [
    "#Bar graph showing customer (+) or (-) balance\n",
    "split_data[\"balance_checker\"].value_counts().sort_values(ascending = False).plot(kind = \"bar\", legend = True)\n",
    "plt.title(\"Balance per Customer\")\n",
    "plt.xlabel(\"Customer Status\")\n",
    "plt.ylabel(\"Total Balance\")\n",
    "plt.legend(['Customer'])\n",
    "plt.show()"
   ]
  },
  {
   "cell_type": "code",
   "execution_count": 62,
   "id": "4ecad180",
   "metadata": {},
   "outputs": [
    {
     "data": {
      "image/png": "[encoded data removed]",
      "text/plain": [
       "<Figure size 640x480 with 1 Axes>"
      ]
     },
     "metadata": {},
     "output_type": "display_data"
    }
   ],
   "source": [
    "#Creating Bar Graph via Marital Status\n",
    "my_group = split_data[split_data[\"balance_checker\"]==\"Negative balance customer\"].groupby(\"marital\")\n",
    "my_group.agg({\"marital\":\"count\"}).plot(kind= \"bar\", legend = True)\n",
    "plt.title(\"Balances by Status\")\n",
    "plt.xlabel(\"Relationship Status\")\n",
    "plt.ylabel(\"Total Balance\")\n",
    "plt.legend(['Status'])\n",
    "plt.show()"
   ]
  },
  {
   "cell_type": "code",
   "execution_count": 29,
   "id": "15a7ad58",
   "metadata": {},
   "outputs": [
    {
     "data": {
      "text/html": [
       "<div>\n",
       "<style scoped>\n",
       "    .dataframe tbody tr th:only-of-type {\n",
       "        vertical-align: middle;\n",
       "    }\n",
       "\n",
       "    .dataframe tbody tr th {\n",
       "        vertical-align: top;\n",
       "    }\n",
       "\n",
       "    .dataframe thead th {\n",
       "        text-align: right;\n",
       "    }\n",
       "</style>\n",
       "<table border=\"1\" class=\"dataframe\">\n",
       "  <thead>\n",
       "    <tr style=\"text-align: right;\">\n",
       "      <th></th>\n",
       "      <th>age</th>\n",
       "      <th>job</th>\n",
       "      <th>marital</th>\n",
       "      <th>education</th>\n",
       "      <th>default</th>\n",
       "      <th>balance</th>\n",
       "      <th>housing</th>\n",
       "      <th>loan</th>\n",
       "      <th>contact</th>\n",
       "      <th>day</th>\n",
       "      <th>month</th>\n",
       "      <th>duration</th>\n",
       "      <th>campaign</th>\n",
       "      <th>Pdays</th>\n",
       "      <th>previous</th>\n",
       "      <th>p_outcome</th>\n",
       "      <th>Y</th>\n",
       "      <th>balance_checker</th>\n",
       "    </tr>\n",
       "  </thead>\n",
       "  <tbody>\n",
       "    <tr>\n",
       "      <th>0</th>\n",
       "      <td>58</td>\n",
       "      <td>management</td>\n",
       "      <td>married</td>\n",
       "      <td>tertiary</td>\n",
       "      <td>no</td>\n",
       "      <td>2143</td>\n",
       "      <td>yes</td>\n",
       "      <td>no</td>\n",
       "      <td>unknown</td>\n",
       "      <td>5</td>\n",
       "      <td>may</td>\n",
       "      <td>261</td>\n",
       "      <td>1</td>\n",
       "      <td>-1</td>\n",
       "      <td>0</td>\n",
       "      <td>unknown</td>\n",
       "      <td>no</td>\n",
       "      <td>Positive balance customer</td>\n",
       "    </tr>\n",
       "    <tr>\n",
       "      <th>1</th>\n",
       "      <td>44</td>\n",
       "      <td>technician</td>\n",
       "      <td>single</td>\n",
       "      <td>secondary</td>\n",
       "      <td>no</td>\n",
       "      <td>29</td>\n",
       "      <td>yes</td>\n",
       "      <td>no</td>\n",
       "      <td>unknown</td>\n",
       "      <td>5</td>\n",
       "      <td>may</td>\n",
       "      <td>151</td>\n",
       "      <td>1</td>\n",
       "      <td>-1</td>\n",
       "      <td>0</td>\n",
       "      <td>unknown</td>\n",
       "      <td>no</td>\n",
       "      <td>Positive balance customer</td>\n",
       "    </tr>\n",
       "    <tr>\n",
       "      <th>2</th>\n",
       "      <td>33</td>\n",
       "      <td>entrepreneur</td>\n",
       "      <td>married</td>\n",
       "      <td>secondary</td>\n",
       "      <td>no</td>\n",
       "      <td>2</td>\n",
       "      <td>yes</td>\n",
       "      <td>yes</td>\n",
       "      <td>unknown</td>\n",
       "      <td>5</td>\n",
       "      <td>may</td>\n",
       "      <td>76</td>\n",
       "      <td>1</td>\n",
       "      <td>-1</td>\n",
       "      <td>0</td>\n",
       "      <td>unknown</td>\n",
       "      <td>no</td>\n",
       "      <td>Positive balance customer</td>\n",
       "    </tr>\n",
       "    <tr>\n",
       "      <th>3</th>\n",
       "      <td>47</td>\n",
       "      <td>blue-collar</td>\n",
       "      <td>married</td>\n",
       "      <td>unknown</td>\n",
       "      <td>no</td>\n",
       "      <td>1506</td>\n",
       "      <td>yes</td>\n",
       "      <td>no</td>\n",
       "      <td>unknown</td>\n",
       "      <td>5</td>\n",
       "      <td>may</td>\n",
       "      <td>92</td>\n",
       "      <td>1</td>\n",
       "      <td>-1</td>\n",
       "      <td>0</td>\n",
       "      <td>unknown</td>\n",
       "      <td>no</td>\n",
       "      <td>Positive balance customer</td>\n",
       "    </tr>\n",
       "    <tr>\n",
       "      <th>4</th>\n",
       "      <td>33</td>\n",
       "      <td>unknown</td>\n",
       "      <td>single</td>\n",
       "      <td>unknown</td>\n",
       "      <td>no</td>\n",
       "      <td>1</td>\n",
       "      <td>no</td>\n",
       "      <td>no</td>\n",
       "      <td>unknown</td>\n",
       "      <td>5</td>\n",
       "      <td>may</td>\n",
       "      <td>198</td>\n",
       "      <td>1</td>\n",
       "      <td>-1</td>\n",
       "      <td>0</td>\n",
       "      <td>unknown</td>\n",
       "      <td>no</td>\n",
       "      <td>Positive balance customer</td>\n",
       "    </tr>\n",
       "    <tr>\n",
       "      <th>...</th>\n",
       "      <td>...</td>\n",
       "      <td>...</td>\n",
       "      <td>...</td>\n",
       "      <td>...</td>\n",
       "      <td>...</td>\n",
       "      <td>...</td>\n",
       "      <td>...</td>\n",
       "      <td>...</td>\n",
       "      <td>...</td>\n",
       "      <td>...</td>\n",
       "      <td>...</td>\n",
       "      <td>...</td>\n",
       "      <td>...</td>\n",
       "      <td>...</td>\n",
       "      <td>...</td>\n",
       "      <td>...</td>\n",
       "      <td>...</td>\n",
       "      <td>...</td>\n",
       "    </tr>\n",
       "    <tr>\n",
       "      <th>45206</th>\n",
       "      <td>51</td>\n",
       "      <td>technician</td>\n",
       "      <td>married</td>\n",
       "      <td>tertiary</td>\n",
       "      <td>no</td>\n",
       "      <td>825</td>\n",
       "      <td>no</td>\n",
       "      <td>no</td>\n",
       "      <td>cellular</td>\n",
       "      <td>17</td>\n",
       "      <td>nov</td>\n",
       "      <td>977</td>\n",
       "      <td>3</td>\n",
       "      <td>-1</td>\n",
       "      <td>0</td>\n",
       "      <td>unknown</td>\n",
       "      <td>yes</td>\n",
       "      <td>Positive balance customer</td>\n",
       "    </tr>\n",
       "    <tr>\n",
       "      <th>45207</th>\n",
       "      <td>71</td>\n",
       "      <td>retired</td>\n",
       "      <td>divorced</td>\n",
       "      <td>primary</td>\n",
       "      <td>no</td>\n",
       "      <td>1729</td>\n",
       "      <td>no</td>\n",
       "      <td>no</td>\n",
       "      <td>cellular</td>\n",
       "      <td>17</td>\n",
       "      <td>nov</td>\n",
       "      <td>456</td>\n",
       "      <td>2</td>\n",
       "      <td>-1</td>\n",
       "      <td>0</td>\n",
       "      <td>unknown</td>\n",
       "      <td>yes</td>\n",
       "      <td>Positive balance customer</td>\n",
       "    </tr>\n",
       "    <tr>\n",
       "      <th>45208</th>\n",
       "      <td>72</td>\n",
       "      <td>retired</td>\n",
       "      <td>married</td>\n",
       "      <td>secondary</td>\n",
       "      <td>no</td>\n",
       "      <td>5715</td>\n",
       "      <td>no</td>\n",
       "      <td>no</td>\n",
       "      <td>cellular</td>\n",
       "      <td>17</td>\n",
       "      <td>nov</td>\n",
       "      <td>1127</td>\n",
       "      <td>5</td>\n",
       "      <td>184</td>\n",
       "      <td>3</td>\n",
       "      <td>success</td>\n",
       "      <td>yes</td>\n",
       "      <td>Positive balance customer</td>\n",
       "    </tr>\n",
       "    <tr>\n",
       "      <th>45209</th>\n",
       "      <td>57</td>\n",
       "      <td>blue-collar</td>\n",
       "      <td>married</td>\n",
       "      <td>secondary</td>\n",
       "      <td>no</td>\n",
       "      <td>668</td>\n",
       "      <td>no</td>\n",
       "      <td>no</td>\n",
       "      <td>telephone</td>\n",
       "      <td>17</td>\n",
       "      <td>nov</td>\n",
       "      <td>508</td>\n",
       "      <td>4</td>\n",
       "      <td>-1</td>\n",
       "      <td>0</td>\n",
       "      <td>unknown</td>\n",
       "      <td>no</td>\n",
       "      <td>Positive balance customer</td>\n",
       "    </tr>\n",
       "    <tr>\n",
       "      <th>45210</th>\n",
       "      <td>37</td>\n",
       "      <td>entrepreneur</td>\n",
       "      <td>married</td>\n",
       "      <td>secondary</td>\n",
       "      <td>no</td>\n",
       "      <td>2971</td>\n",
       "      <td>no</td>\n",
       "      <td>no</td>\n",
       "      <td>cellular</td>\n",
       "      <td>17</td>\n",
       "      <td>nov</td>\n",
       "      <td>361</td>\n",
       "      <td>2</td>\n",
       "      <td>188</td>\n",
       "      <td>11</td>\n",
       "      <td>other</td>\n",
       "      <td>no</td>\n",
       "      <td>Positive balance customer</td>\n",
       "    </tr>\n",
       "  </tbody>\n",
       "</table>\n",
       "<p>45211 rows × 18 columns</p>\n",
       "</div>"
      ],
      "text/plain": [
       "       age           job   marital  education default  balance housing loan  \\\n",
       "0       58    management   married   tertiary      no     2143     yes   no   \n",
       "1       44    technician    single  secondary      no       29     yes   no   \n",
       "2       33  entrepreneur   married  secondary      no        2     yes  yes   \n",
       "3       47   blue-collar   married    unknown      no     1506     yes   no   \n",
       "4       33       unknown    single    unknown      no        1      no   no   \n",
       "...    ...           ...       ...        ...     ...      ...     ...  ...   \n",
       "45206   51    technician   married   tertiary      no      825      no   no   \n",
       "45207   71       retired  divorced    primary      no     1729      no   no   \n",
       "45208   72       retired   married  secondary      no     5715      no   no   \n",
       "45209   57   blue-collar   married  secondary      no      668      no   no   \n",
       "45210   37  entrepreneur   married  secondary      no     2971      no   no   \n",
       "\n",
       "         contact day month duration campaign Pdays previous p_outcome    Y  \\\n",
       "0        unknown   5   may      261        1    -1        0   unknown   no   \n",
       "1        unknown   5   may      151        1    -1        0   unknown   no   \n",
       "2        unknown   5   may       76        1    -1        0   unknown   no   \n",
       "3        unknown   5   may       92        1    -1        0   unknown   no   \n",
       "4        unknown   5   may      198        1    -1        0   unknown   no   \n",
       "...          ...  ..   ...      ...      ...   ...      ...       ...  ...   \n",
       "45206   cellular  17   nov      977        3    -1        0   unknown  yes   \n",
       "45207   cellular  17   nov      456        2    -1        0   unknown  yes   \n",
       "45208   cellular  17   nov     1127        5   184        3   success  yes   \n",
       "45209  telephone  17   nov      508        4    -1        0   unknown   no   \n",
       "45210   cellular  17   nov      361        2   188       11     other   no   \n",
       "\n",
       "                 balance_checker  \n",
       "0      Positive balance customer  \n",
       "1      Positive balance customer  \n",
       "2      Positive balance customer  \n",
       "3      Positive balance customer  \n",
       "4      Positive balance customer  \n",
       "...                          ...  \n",
       "45206  Positive balance customer  \n",
       "45207  Positive balance customer  \n",
       "45208  Positive balance customer  \n",
       "45209  Positive balance customer  \n",
       "45210  Positive balance customer  \n",
       "\n",
       "[45211 rows x 18 columns]"
      ]
     },
     "execution_count": 29,
     "metadata": {},
     "output_type": "execute_result"
    }
   ],
   "source": [
    "split_data"
   ]
  },
  {
   "cell_type": "code",
   "execution_count": 30,
   "id": "93d945f0",
   "metadata": {},
   "outputs": [],
   "source": [
    "#Converted split_data[balance] to integer, then created edu_group to get average by balance of each education group \n",
    "split_data[\"balance\"] =split_data[\"balance\"].astype(\"int\")\n",
    "edu_group = split_data.groupby(\"education\").agg({\"balance\" : \"mean\"}).sort_values(by = \"balance\" , ascending = False)"
   ]
  },
  {
   "cell_type": "code",
   "execution_count": 31,
   "id": "507a9406",
   "metadata": {},
   "outputs": [
    {
     "data": {
      "text/html": [
       "<div>\n",
       "<style scoped>\n",
       "    .dataframe tbody tr th:only-of-type {\n",
       "        vertical-align: middle;\n",
       "    }\n",
       "\n",
       "    .dataframe tbody tr th {\n",
       "        vertical-align: top;\n",
       "    }\n",
       "\n",
       "    .dataframe thead th {\n",
       "        text-align: right;\n",
       "    }\n",
       "</style>\n",
       "<table border=\"1\" class=\"dataframe\">\n",
       "  <thead>\n",
       "    <tr style=\"text-align: right;\">\n",
       "      <th></th>\n",
       "      <th>balance</th>\n",
       "    </tr>\n",
       "    <tr>\n",
       "      <th>education</th>\n",
       "      <th></th>\n",
       "    </tr>\n",
       "  </thead>\n",
       "  <tbody>\n",
       "    <tr>\n",
       "      <th>tertiary</th>\n",
       "      <td>1758.416435</td>\n",
       "    </tr>\n",
       "    <tr>\n",
       "      <th>unknown</th>\n",
       "      <td>1526.754443</td>\n",
       "    </tr>\n",
       "    <tr>\n",
       "      <th>primary</th>\n",
       "      <td>1250.949934</td>\n",
       "    </tr>\n",
       "    <tr>\n",
       "      <th>secondary</th>\n",
       "      <td>1154.880786</td>\n",
       "    </tr>\n",
       "  </tbody>\n",
       "</table>\n",
       "</div>"
      ],
      "text/plain": [
       "               balance\n",
       "education             \n",
       "tertiary   1758.416435\n",
       "unknown    1526.754443\n",
       "primary    1250.949934\n",
       "secondary  1154.880786"
      ]
     },
     "execution_count": 31,
     "metadata": {},
     "output_type": "execute_result"
    }
   ],
   "source": [
    "edu_group"
   ]
  },
  {
   "cell_type": "code",
   "execution_count": 33,
   "id": "c58fc66d",
   "metadata": {},
   "outputs": [],
   "source": [
    "#Top 10 bank balance\n",
    "Top_10_balance = split_data[\"balance\"].sort_values(ascending = False).head(n=10)"
   ]
  },
  {
   "cell_type": "code",
   "execution_count": 34,
   "id": "716f9453",
   "metadata": {},
   "outputs": [],
   "source": [
    "#Top 10 balance for all\n",
    "Top_10_balance_all = split_data[split_data.index.isin(Top_10_balance.index)]"
   ]
  },
  {
   "cell_type": "code",
   "execution_count": 35,
   "id": "340aaf34",
   "metadata": {},
   "outputs": [
    {
     "data": {
      "text/html": [
       "<div>\n",
       "<style scoped>\n",
       "    .dataframe tbody tr th:only-of-type {\n",
       "        vertical-align: middle;\n",
       "    }\n",
       "\n",
       "    .dataframe tbody tr th {\n",
       "        vertical-align: top;\n",
       "    }\n",
       "\n",
       "    .dataframe thead th {\n",
       "        text-align: right;\n",
       "    }\n",
       "</style>\n",
       "<table border=\"1\" class=\"dataframe\">\n",
       "  <thead>\n",
       "    <tr style=\"text-align: right;\">\n",
       "      <th></th>\n",
       "      <th>age</th>\n",
       "      <th>job</th>\n",
       "      <th>marital</th>\n",
       "      <th>education</th>\n",
       "      <th>default</th>\n",
       "      <th>balance</th>\n",
       "      <th>housing</th>\n",
       "      <th>loan</th>\n",
       "      <th>contact</th>\n",
       "      <th>day</th>\n",
       "      <th>month</th>\n",
       "      <th>duration</th>\n",
       "      <th>campaign</th>\n",
       "      <th>Pdays</th>\n",
       "      <th>previous</th>\n",
       "      <th>p_outcome</th>\n",
       "      <th>Y</th>\n",
       "      <th>balance_checker</th>\n",
       "    </tr>\n",
       "  </thead>\n",
       "  <tbody>\n",
       "    <tr>\n",
       "      <th>12926</th>\n",
       "      <td>56</td>\n",
       "      <td>blue-collar</td>\n",
       "      <td>married</td>\n",
       "      <td>secondary</td>\n",
       "      <td>no</td>\n",
       "      <td>58932</td>\n",
       "      <td>no</td>\n",
       "      <td>no</td>\n",
       "      <td>telephone</td>\n",
       "      <td>7</td>\n",
       "      <td>jul</td>\n",
       "      <td>339</td>\n",
       "      <td>2</td>\n",
       "      <td>-1</td>\n",
       "      <td>0</td>\n",
       "      <td>unknown</td>\n",
       "      <td>no</td>\n",
       "      <td>Positive balance customer</td>\n",
       "    </tr>\n",
       "    <tr>\n",
       "      <th>19420</th>\n",
       "      <td>59</td>\n",
       "      <td>admin.</td>\n",
       "      <td>married</td>\n",
       "      <td>unknown</td>\n",
       "      <td>no</td>\n",
       "      <td>64343</td>\n",
       "      <td>no</td>\n",
       "      <td>no</td>\n",
       "      <td>cellular</td>\n",
       "      <td>6</td>\n",
       "      <td>aug</td>\n",
       "      <td>45</td>\n",
       "      <td>4</td>\n",
       "      <td>-1</td>\n",
       "      <td>0</td>\n",
       "      <td>unknown</td>\n",
       "      <td>no</td>\n",
       "      <td>Positive balance customer</td>\n",
       "    </tr>\n",
       "    <tr>\n",
       "      <th>19785</th>\n",
       "      <td>56</td>\n",
       "      <td>management</td>\n",
       "      <td>divorced</td>\n",
       "      <td>tertiary</td>\n",
       "      <td>no</td>\n",
       "      <td>66721</td>\n",
       "      <td>no</td>\n",
       "      <td>no</td>\n",
       "      <td>cellular</td>\n",
       "      <td>8</td>\n",
       "      <td>aug</td>\n",
       "      <td>442</td>\n",
       "      <td>2</td>\n",
       "      <td>-1</td>\n",
       "      <td>0</td>\n",
       "      <td>unknown</td>\n",
       "      <td>no</td>\n",
       "      <td>Positive balance customer</td>\n",
       "    </tr>\n",
       "    <tr>\n",
       "      <th>21192</th>\n",
       "      <td>52</td>\n",
       "      <td>blue-collar</td>\n",
       "      <td>married</td>\n",
       "      <td>primary</td>\n",
       "      <td>no</td>\n",
       "      <td>66653</td>\n",
       "      <td>no</td>\n",
       "      <td>no</td>\n",
       "      <td>cellular</td>\n",
       "      <td>14</td>\n",
       "      <td>aug</td>\n",
       "      <td>109</td>\n",
       "      <td>3</td>\n",
       "      <td>-1</td>\n",
       "      <td>0</td>\n",
       "      <td>unknown</td>\n",
       "      <td>no</td>\n",
       "      <td>Positive balance customer</td>\n",
       "    </tr>\n",
       "    <tr>\n",
       "      <th>26227</th>\n",
       "      <td>59</td>\n",
       "      <td>management</td>\n",
       "      <td>married</td>\n",
       "      <td>tertiary</td>\n",
       "      <td>no</td>\n",
       "      <td>98417</td>\n",
       "      <td>no</td>\n",
       "      <td>no</td>\n",
       "      <td>telephone</td>\n",
       "      <td>20</td>\n",
       "      <td>nov</td>\n",
       "      <td>145</td>\n",
       "      <td>5</td>\n",
       "      <td>-1</td>\n",
       "      <td>0</td>\n",
       "      <td>unknown</td>\n",
       "      <td>no</td>\n",
       "      <td>Positive balance customer</td>\n",
       "    </tr>\n",
       "    <tr>\n",
       "      <th>39989</th>\n",
       "      <td>51</td>\n",
       "      <td>management</td>\n",
       "      <td>single</td>\n",
       "      <td>tertiary</td>\n",
       "      <td>no</td>\n",
       "      <td>102127</td>\n",
       "      <td>no</td>\n",
       "      <td>no</td>\n",
       "      <td>cellular</td>\n",
       "      <td>3</td>\n",
       "      <td>jun</td>\n",
       "      <td>90</td>\n",
       "      <td>1</td>\n",
       "      <td>-1</td>\n",
       "      <td>0</td>\n",
       "      <td>unknown</td>\n",
       "      <td>no</td>\n",
       "      <td>Positive balance customer</td>\n",
       "    </tr>\n",
       "    <tr>\n",
       "      <th>41374</th>\n",
       "      <td>32</td>\n",
       "      <td>entrepreneur</td>\n",
       "      <td>single</td>\n",
       "      <td>tertiary</td>\n",
       "      <td>no</td>\n",
       "      <td>59649</td>\n",
       "      <td>no</td>\n",
       "      <td>no</td>\n",
       "      <td>cellular</td>\n",
       "      <td>1</td>\n",
       "      <td>sep</td>\n",
       "      <td>69</td>\n",
       "      <td>2</td>\n",
       "      <td>-1</td>\n",
       "      <td>0</td>\n",
       "      <td>unknown</td>\n",
       "      <td>no</td>\n",
       "      <td>Positive balance customer</td>\n",
       "    </tr>\n",
       "    <tr>\n",
       "      <th>41693</th>\n",
       "      <td>60</td>\n",
       "      <td>retired</td>\n",
       "      <td>married</td>\n",
       "      <td>primary</td>\n",
       "      <td>no</td>\n",
       "      <td>71188</td>\n",
       "      <td>no</td>\n",
       "      <td>no</td>\n",
       "      <td>cellular</td>\n",
       "      <td>6</td>\n",
       "      <td>oct</td>\n",
       "      <td>205</td>\n",
       "      <td>1</td>\n",
       "      <td>-1</td>\n",
       "      <td>0</td>\n",
       "      <td>unknown</td>\n",
       "      <td>no</td>\n",
       "      <td>Positive balance customer</td>\n",
       "    </tr>\n",
       "    <tr>\n",
       "      <th>42558</th>\n",
       "      <td>84</td>\n",
       "      <td>retired</td>\n",
       "      <td>married</td>\n",
       "      <td>secondary</td>\n",
       "      <td>no</td>\n",
       "      <td>81204</td>\n",
       "      <td>no</td>\n",
       "      <td>no</td>\n",
       "      <td>telephone</td>\n",
       "      <td>28</td>\n",
       "      <td>dec</td>\n",
       "      <td>679</td>\n",
       "      <td>1</td>\n",
       "      <td>313</td>\n",
       "      <td>2</td>\n",
       "      <td>other</td>\n",
       "      <td>yes</td>\n",
       "      <td>Positive balance customer</td>\n",
       "    </tr>\n",
       "    <tr>\n",
       "      <th>43393</th>\n",
       "      <td>84</td>\n",
       "      <td>retired</td>\n",
       "      <td>married</td>\n",
       "      <td>secondary</td>\n",
       "      <td>no</td>\n",
       "      <td>81204</td>\n",
       "      <td>no</td>\n",
       "      <td>no</td>\n",
       "      <td>telephone</td>\n",
       "      <td>1</td>\n",
       "      <td>apr</td>\n",
       "      <td>390</td>\n",
       "      <td>1</td>\n",
       "      <td>94</td>\n",
       "      <td>3</td>\n",
       "      <td>success</td>\n",
       "      <td>yes</td>\n",
       "      <td>Positive balance customer</td>\n",
       "    </tr>\n",
       "  </tbody>\n",
       "</table>\n",
       "</div>"
      ],
      "text/plain": [
       "       age           job   marital  education default  balance housing loan  \\\n",
       "12926   56   blue-collar   married  secondary      no    58932      no   no   \n",
       "19420   59        admin.   married    unknown      no    64343      no   no   \n",
       "19785   56    management  divorced   tertiary      no    66721      no   no   \n",
       "21192   52   blue-collar   married    primary      no    66653      no   no   \n",
       "26227   59    management   married   tertiary      no    98417      no   no   \n",
       "39989   51    management    single   tertiary      no   102127      no   no   \n",
       "41374   32  entrepreneur    single   tertiary      no    59649      no   no   \n",
       "41693   60       retired   married    primary      no    71188      no   no   \n",
       "42558   84       retired   married  secondary      no    81204      no   no   \n",
       "43393   84       retired   married  secondary      no    81204      no   no   \n",
       "\n",
       "         contact day month duration campaign Pdays previous p_outcome    Y  \\\n",
       "12926  telephone   7   jul      339        2    -1        0   unknown   no   \n",
       "19420   cellular   6   aug       45        4    -1        0   unknown   no   \n",
       "19785   cellular   8   aug      442        2    -1        0   unknown   no   \n",
       "21192   cellular  14   aug      109        3    -1        0   unknown   no   \n",
       "26227  telephone  20   nov      145        5    -1        0   unknown   no   \n",
       "39989   cellular   3   jun       90        1    -1        0   unknown   no   \n",
       "41374   cellular   1   sep       69        2    -1        0   unknown   no   \n",
       "41693   cellular   6   oct      205        1    -1        0   unknown   no   \n",
       "42558  telephone  28   dec      679        1   313        2     other  yes   \n",
       "43393  telephone   1   apr      390        1    94        3   success  yes   \n",
       "\n",
       "                 balance_checker  \n",
       "12926  Positive balance customer  \n",
       "19420  Positive balance customer  \n",
       "19785  Positive balance customer  \n",
       "21192  Positive balance customer  \n",
       "26227  Positive balance customer  \n",
       "39989  Positive balance customer  \n",
       "41374  Positive balance customer  \n",
       "41693  Positive balance customer  \n",
       "42558  Positive balance customer  \n",
       "43393  Positive balance customer  "
      ]
     },
     "execution_count": 35,
     "metadata": {},
     "output_type": "execute_result"
    }
   ],
   "source": [
    "Top_10_balance_all"
   ]
  },
  {
   "cell_type": "code",
   "execution_count": 36,
   "id": "92e47239",
   "metadata": {},
   "outputs": [
    {
     "data": {
      "text/plain": [
       "job\n",
       "management      3\n",
       "retired         3\n",
       "blue-collar     2\n",
       "admin.          1\n",
       "entrepreneur    1\n",
       "Name: count, dtype: int64"
      ]
     },
     "execution_count": 36,
     "metadata": {},
     "output_type": "execute_result"
    }
   ],
   "source": [
    "#\n",
    "Top_10_balance_all[\"job\"].value_counts()"
   ]
  },
  {
   "cell_type": "code",
   "execution_count": 37,
   "id": "a566c321",
   "metadata": {},
   "outputs": [],
   "source": [
    "Customers = split_data[split_data[\"Y\"]=='yes']"
   ]
  },
  {
   "cell_type": "code",
   "execution_count": 54,
   "id": "59299721",
   "metadata": {},
   "outputs": [
    {
     "data": {
      "image/png": "[encoded data removed]",
      "text/plain": [
       "<Figure size 640x480 with 1 Axes>"
      ]
     },
     "metadata": {},
     "output_type": "display_data"
    }
   ],
   "source": [
    "Customers[\"job\"].value_counts().sort_values(ascending = False).plot(kind=\"bar\", legend = True)\n",
    "plt.title(\"Total Amounts by Occupation\")\n",
    "plt.xlabel(\"Occupation\")\n",
    "plt.ylabel(\"Total Recorded\")\n",
    "plt.show()"
   ]
  },
  {
   "cell_type": "code",
   "execution_count": 39,
   "id": "fe1c5e25",
   "metadata": {},
   "outputs": [
    {
     "data": {
      "text/plain": [
       "Y\n",
       "no     39922\n",
       "yes     5289\n",
       "Name: count, dtype: int64"
      ]
     },
     "execution_count": 39,
     "metadata": {},
     "output_type": "execute_result"
    }
   ],
   "source": [
    "split_data['Y'].value_counts()"
   ]
  },
  {
   "cell_type": "code",
   "execution_count": 40,
   "id": "ab5f9a94",
   "metadata": {},
   "outputs": [],
   "source": [
    "def into_numbers(column_name):\n",
    "    if column_name=='yes':\n",
    "        return 1\n",
    "    elif column_name=='no':\n",
    "        return 0\n",
    "    else:\n",
    "        return \"column name was not found\""
   ]
  },
  {
   "cell_type": "code",
   "execution_count": 41,
   "id": "004e94aa",
   "metadata": {},
   "outputs": [],
   "source": [
    "split_data[\"Outcome_Variable\"]= split_data['Y'].apply(into_numbers)"
   ]
  },
  {
   "cell_type": "code",
   "execution_count": 71,
   "id": "dedec195",
   "metadata": {},
   "outputs": [
    {
     "data": {
      "image/png": "[encoded data removed]",
      "text/plain": [
       "<Figure size 640x480 with 1 Axes>"
      ]
     },
     "metadata": {},
     "output_type": "display_data"
    }
   ],
   "source": [
    "split_data[\"Outcome_Variable\"].value_counts().plot(kind=\"bar\", legend = True)\n",
    "plt.title(\"Outcome on Customers agreeing with the Bank\")\n",
    "plt.xlabel(\"Outcome_Variable\")\n",
    "plt.ylabel(\"Responses\")\n",
    "plt.show()"
   ]
  },
  {
   "cell_type": "code",
   "execution_count": 53,
   "id": "999b29fc",
   "metadata": {},
   "outputs": [
    {
     "data": {
      "image/png": "[encoded data removed]",
      "text/plain": [
       "<Figure size 640x480 with 1 Axes>"
      ]
     },
     "metadata": {},
     "output_type": "display_data"
    }
   ],
   "source": [
    "#Scatterplot proves no correlation\n",
    "plt.scatter(x= split_data.age.astype(\"float\"), y=split_data.Outcome_Variable.astype(\"float\"))\n",
    "plt.title(\"Correlation Test\")\n",
    "plt.xlabel(\"age\")\n",
    "plt.ylabel(\"Outcome_Variable\")\n",
    "plt.show()"
   ]
  },
  {
   "cell_type": "code",
   "execution_count": 44,
   "id": "711be936",
   "metadata": {},
   "outputs": [
    {
     "data": {
      "text/plain": [
       "0        58\n",
       "1        44\n",
       "2        33\n",
       "3        47\n",
       "4        33\n",
       "         ..\n",
       "45206    51\n",
       "45207    71\n",
       "45208    72\n",
       "45209    57\n",
       "45210    37\n",
       "Name: age, Length: 45211, dtype: int32"
      ]
     },
     "execution_count": 44,
     "metadata": {},
     "output_type": "execute_result"
    }
   ],
   "source": [
    "#Displays Age column values\n",
    "split_data.age"
   ]
  },
  {
   "cell_type": "code",
   "execution_count": 45,
   "id": "6b6093a0",
   "metadata": {},
   "outputs": [],
   "source": [
    "from sklearn.model_selection import train_test_split"
   ]
  },
  {
   "cell_type": "code",
   "execution_count": 46,
   "id": "276bd937",
   "metadata": {},
   "outputs": [],
   "source": [
    "#Training our age and balance from our Split Data with ouir Outcome Variable\n",
    "X_train, X_test, Y_train, Y_test = train_test_split(split_data[['age', 'balance']], split_data[\"Outcome_Variable\"], test_size = 0.1)"
   ]
  },
  {
   "cell_type": "code",
   "execution_count": 47,
   "id": "2df0b0f8",
   "metadata": {},
   "outputs": [
    {
     "data": {
      "text/plain": [
       "2780     0\n",
       "31032    1\n",
       "18274    0\n",
       "40973    0\n",
       "29777    0\n",
       "        ..\n",
       "40350    1\n",
       "18728    0\n",
       "39300    0\n",
       "4704     0\n",
       "8598     0\n",
       "Name: Outcome_Variable, Length: 40689, dtype: int64"
      ]
     },
     "execution_count": 47,
     "metadata": {},
     "output_type": "execute_result"
    }
   ],
   "source": [
    "X_train\n",
    "Y_train"
   ]
  },
  {
   "cell_type": "code",
   "execution_count": 48,
   "id": "ca0be861",
   "metadata": {},
   "outputs": [
    {
     "data": {
      "text/html": [
       "<style>#sk-container-id-1 {color: black;background-color: white;}#sk-container-id-1 pre{padding: 0;}#sk-container-id-1 div.sk-toggleable {background-color: white;}#sk-container-id-1 label.sk-toggleable__label {cursor: pointer;display: block;width: 100%;margin-bottom: 0;padding: 0.3em;box-sizing: border-box;text-align: center;}#sk-container-id-1 label.sk-toggleable__label-arrow:before {content: \"▸\";float: left;margin-right: 0.25em;color: #696969;}#sk-container-id-1 label.sk-toggleable__label-arrow:hover:before {color: black;}#sk-container-id-1 div.sk-estimator:hover label.sk-toggleable__label-arrow:before {color: black;}#sk-container-id-1 div.sk-toggleable__content {max-height: 0;max-width: 0;overflow: hidden;text-align: left;background-color: #f0f8ff;}#sk-container-id-1 div.sk-toggleable__content pre {margin: 0.2em;color: black;border-radius: 0.25em;background-color: #f0f8ff;}#sk-container-id-1 input.sk-toggleable__control:checked~div.sk-toggleable__content {max-height: 200px;max-width: 100%;overflow: auto;}#sk-container-id-1 input.sk-toggleable__control:checked~label.sk-toggleable__label-arrow:before {content: \"▾\";}#sk-container-id-1 div.sk-estimator input.sk-toggleable__control:checked~label.sk-toggleable__label {background-color: #d4ebff;}#sk-container-id-1 div.sk-label input.sk-toggleable__control:checked~label.sk-toggleable__label {background-color: #d4ebff;}#sk-container-id-1 input.sk-hidden--visually {border: 0;clip: rect(1px 1px 1px 1px);clip: rect(1px, 1px, 1px, 1px);height: 1px;margin: -1px;overflow: hidden;padding: 0;position: absolute;width: 1px;}#sk-container-id-1 div.sk-estimator {font-family: monospace;background-color: #f0f8ff;border: 1px dotted black;border-radius: 0.25em;box-sizing: border-box;margin-bottom: 0.5em;}#sk-container-id-1 div.sk-estimator:hover {background-color: #d4ebff;}#sk-container-id-1 div.sk-parallel-item::after {content: \"\";width: 100%;border-bottom: 1px solid gray;flex-grow: 1;}#sk-container-id-1 div.sk-label:hover label.sk-toggleable__label {background-color: #d4ebff;}#sk-container-id-1 div.sk-serial::before {content: \"\";position: absolute;border-left: 1px solid gray;box-sizing: border-box;top: 0;bottom: 0;left: 50%;z-index: 0;}#sk-container-id-1 div.sk-serial {display: flex;flex-direction: column;align-items: center;background-color: white;padding-right: 0.2em;padding-left: 0.2em;position: relative;}#sk-container-id-1 div.sk-item {position: relative;z-index: 1;}#sk-container-id-1 div.sk-parallel {display: flex;align-items: stretch;justify-content: center;background-color: white;position: relative;}#sk-container-id-1 div.sk-item::before, #sk-container-id-1 div.sk-parallel-item::before {content: \"\";position: absolute;border-left: 1px solid gray;box-sizing: border-box;top: 0;bottom: 0;left: 50%;z-index: -1;}#sk-container-id-1 div.sk-parallel-item {display: flex;flex-direction: column;z-index: 1;position: relative;background-color: white;}#sk-container-id-1 div.sk-parallel-item:first-child::after {align-self: flex-end;width: 50%;}#sk-container-id-1 div.sk-parallel-item:last-child::after {align-self: flex-start;width: 50%;}#sk-container-id-1 div.sk-parallel-item:only-child::after {width: 0;}#sk-container-id-1 div.sk-dashed-wrapped {border: 1px dashed gray;margin: 0 0.4em 0.5em 0.4em;box-sizing: border-box;padding-bottom: 0.4em;background-color: white;}#sk-container-id-1 div.sk-label label {font-family: monospace;font-weight: bold;display: inline-block;line-height: 1.2em;}#sk-container-id-1 div.sk-label-container {text-align: center;}#sk-container-id-1 div.sk-container {/* jupyter's `normalize.less` sets `[hidden] { display: none; }` but bootstrap.min.css set `[hidden] { display: none !important; }` so we also need the `!important` here to be able to override the default hidden behavior on the sphinx rendered scikit-learn.org. See: https://github.com/scikit-learn/scikit-learn/issues/21755 */display: inline-block !important;position: relative;}#sk-container-id-1 div.sk-text-repr-fallback {display: none;}</style><div id=\"sk-container-id-1\" class=\"sk-top-container\"><div class=\"sk-text-repr-fallback\"><pre>LogisticRegression()</pre><b>In a Jupyter environment, please rerun this cell to show the HTML representation or trust the notebook. <br />On GitHub, the HTML representation is unable to render, please try loading this page with nbviewer.org.</b></div><div class=\"sk-container\" hidden><div class=\"sk-item\"><div class=\"sk-estimator sk-toggleable\"><input class=\"sk-toggleable__control sk-hidden--visually\" id=\"sk-estimator-id-1\" type=\"checkbox\" checked><label for=\"sk-estimator-id-1\" class=\"sk-toggleable__label sk-toggleable__label-arrow\">LogisticRegression</label><div class=\"sk-toggleable__content\"><pre>LogisticRegression()</pre></div></div></div></div></div>"
      ],
      "text/plain": [
       "LogisticRegression()"
      ]
     },
     "execution_count": 48,
     "metadata": {},
     "output_type": "execute_result"
    }
   ],
   "source": [
    "from sklearn.linear_model import LogisticRegression\n",
    "model = LogisticRegression()\n",
    "model.fit(X_train,Y_train)"
   ]
  },
  {
   "cell_type": "code",
   "execution_count": 49,
   "id": "d63bd17b",
   "metadata": {},
   "outputs": [
    {
     "data": {
      "text/plain": [
       "array([0, 0, 0, ..., 0, 0, 0], dtype=int64)"
      ]
     },
     "execution_count": 49,
     "metadata": {},
     "output_type": "execute_result"
    }
   ],
   "source": [
    "#Displays integer value for X_test\n",
    "model.predict(X_test)"
   ]
  },
  {
   "cell_type": "code",
   "execution_count": 50,
   "id": "b7c90a61",
   "metadata": {},
   "outputs": [
    {
     "data": {
      "text/plain": [
       "0.8850066342326405"
      ]
     },
     "execution_count": 50,
     "metadata": {},
     "output_type": "execute_result"
    }
   ],
   "source": [
    "#Likely chance of the model succeeding \n",
    "model.score(X_test, Y_test)"
   ]
  },
  {
   "cell_type": "code",
   "execution_count": 51,
   "id": "74ff2b0b",
   "metadata": {},
   "outputs": [
    {
     "data": {
      "text/plain": [
       "array([0, 0, 0, ..., 0, 0, 0], dtype=int64)"
      ]
     },
     "execution_count": 51,
     "metadata": {},
     "output_type": "execute_result"
    }
   ],
   "source": [
    "model.predict(X_test)"
   ]
  },
  {
   "cell_type": "code",
   "execution_count": 52,
   "id": "21aa95fa",
   "metadata": {},
   "outputs": [
    {
     "data": {
      "text/plain": [
       "array([[0.8929736 , 0.1070264 ],\n",
       "       [0.88835018, 0.11164982],\n",
       "       [0.88760477, 0.11239523],\n",
       "       ...,\n",
       "       [0.84978886, 0.15021114],\n",
       "       [0.88344498, 0.11655502],\n",
       "       [0.88572247, 0.11427753]])"
      ]
     },
     "execution_count": 52,
     "metadata": {},
     "output_type": "execute_result"
    }
   ],
   "source": [
    "#Probabilitlity Test\n",
    "model.predict_proba(X_test)"
   ]
  }
 ],
 "metadata": {
  "kernelspec": {
   "display_name": "Python 3 (ipykernel)",
   "language": "python",
   "name": "python3"
  },
  "language_info": {
   "codemirror_mode": {
    "name": "ipython",
    "version": 3
   },
   "file_extension": ".py",
   "mimetype": "text/x-python",
   "name": "python",
   "nbconvert_exporter": "python",
   "pygments_lexer": "ipython3",
   "version": "3.11.4"
  }
 },
 "nbformat": 4,
 "nbformat_minor": 5
}
